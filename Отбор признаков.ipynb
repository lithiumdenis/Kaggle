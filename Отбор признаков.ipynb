{
 "cells": [
  {
   "cell_type": "markdown",
   "metadata": {},
   "source": [
    "### Отбор признаков"
   ]
  },
  {
   "cell_type": "markdown",
   "metadata": {},
   "source": [
    "#### Одномерные статистики"
   ]
  },
  {
   "cell_type": "code",
   "execution_count": 16,
   "metadata": {
    "scrolled": false
   },
   "outputs": [],
   "source": [
    "from sklearn.datasets import load_breast_cancer\n",
    "from sklearn.feature_selection import SelectPercentile\n",
    "from sklearn.model_selection import train_test_split\n",
    "\n",
    "import pandas as pd\n",
    "import numpy as np\n",
    "import seaborn as sns\n",
    "import matplotlib.pyplot as plt\n",
    "%matplotlib inline\n",
    "\n",
    "dataset = load_breast_cancer()\n",
    "#print(dataset.DESCR)"
   ]
  },
  {
   "cell_type": "code",
   "execution_count": 18,
   "metadata": {
    "collapsed": true
   },
   "outputs": [],
   "source": [
    "#Задаём начальные значения рандома\n",
    "rng = np.random.RandomState(42)\n",
    "#Добавляем шумовые признаки, сгенерированные просто так\n",
    "noise = rng.normal(size=(len(dataset.data), 50))\n",
    "X_w_noise = np.hstack([dataset.data, noise])"
   ]
  },
  {
   "cell_type": "code",
   "execution_count": 28,
   "metadata": {},
   "outputs": [],
   "source": [
    "X_train, X_test, y_train, y_test = train_test_split(X_w_noise, dataset.target, random_state=1234, test_size=.5)\n",
    "#Отберем 50% признаков \n",
    "select = SelectPercentile(percentile=50)\n",
    "select.fit(X_train, y_train)\n",
    "X_train_selected = select.transform(X_train)"
   ]
  },
  {
   "cell_type": "code",
   "execution_count": 29,
   "metadata": {},
   "outputs": [
    {
     "name": "stdout",
     "output_type": "stream",
     "text": [
      "[ True  True  True  True  True  True  True  True  True False  True False\n",
      "  True  True  True  True  True  True False  True  True  True  True  True\n",
      "  True  True  True  True  True  True False  True False False  True  True\n",
      " False False False False False  True False False False False False  True\n",
      " False  True False False False False False False False False  True False\n",
      "  True False False False False False False  True False False False False\n",
      "  True  True  True False False False  True False]\n"
     ]
    }
   ],
   "source": [
    "#Выясним, что это за признаки\n",
    "mask = select.get_support()\n",
    "print(mask)"
   ]
  },
  {
   "cell_type": "code",
   "execution_count": 34,
   "metadata": {},
   "outputs": [
    {
     "name": "stdout",
     "output_type": "stream",
     "text": [
      "Правильность со всеми признаками: 0.9192982456140351\n",
      "Правильность с выбранными признаками: 0.9333333333333333\n"
     ]
    }
   ],
   "source": [
    "#Изучим правильность работы со всеми и выбранными признаками в отдельности\n",
    "from sklearn.ensemble import RandomForestClassifier\n",
    "X_test_selected = select.transform(X_test)\n",
    "rf = RandomForestClassifier(random_state=1234)\n",
    "rf.fit(X_train, y_train)\n",
    "print(\"Правильность со всеми признаками: {}\".format(rf.score(X_test, y_test)))\n",
    "rf.fit(X_train_selected, y_train)\n",
    "print(\"Правильность с выбранными признаками: {}\".format(rf.score(X_test_selected, y_test)))"
   ]
  },
  {
   "cell_type": "markdown",
   "metadata": {},
   "source": [
    "#### Признаки на основе модели"
   ]
  },
  {
   "cell_type": "code",
   "execution_count": 38,
   "metadata": {},
   "outputs": [
    {
     "name": "stdout",
     "output_type": "stream",
     "text": [
      "[ True  True  True  True  True  True  True  True  True  True  True False\n",
      "  True  True False  True  True  True False  True  True  True  True  True\n",
      "  True  True  True  True  True  True False False False False  True  True\n",
      " False  True  True False False False  True False False False  True False\n",
      " False False False False  True False False False  True  True False  True\n",
      "  True False  True False False False False False False False False False\n",
      " False False False False False False False  True]\n"
     ]
    }
   ],
   "source": [
    "from sklearn.feature_selection import SelectFromModel\n",
    "from sklearn.ensemble import RandomForestClassifier\n",
    "select = SelectFromModel(RandomForestClassifier(n_estimators=100, random_state=1234), threshold='median')\n",
    "select.fit(X_train, y_train)\n",
    "X_train_l1 = select.transform(X_train)\n",
    "#Выясним, что это за признаки\n",
    "mask = select.get_support()\n",
    "print(mask)"
   ]
  },
  {
   "cell_type": "code",
   "execution_count": 40,
   "metadata": {},
   "outputs": [
    {
     "name": "stdout",
     "output_type": "stream",
     "text": [
      "Правильность с выбранными признаками: 0.9263157894736842\n"
     ]
    }
   ],
   "source": [
    "X_test_l1 = select.transform(X_test)\n",
    "score = RandomForestClassifier().fit(X_train_l1, y_train).score(X_test_l1, y_test)\n",
    "print(\"Правильность с выбранными признаками: {}\".format(score))"
   ]
  },
  {
   "cell_type": "markdown",
   "metadata": {},
   "source": [
    "#### Итеративный отбор признаков"
   ]
  },
  {
   "cell_type": "code",
   "execution_count": 42,
   "metadata": {},
   "outputs": [
    {
     "name": "stdout",
     "output_type": "stream",
     "text": [
      "[ True  True  True  True  True  True  True  True  True  True  True  True\n",
      "  True  True  True False  True False  True False  True  True  True  True\n",
      "  True  True  True  True  True  True False  True False False  True  True\n",
      " False  True  True False False False False False  True False  True False\n",
      " False False False False  True False False False False False  True  True\n",
      " False False  True False False False False False False False False  True\n",
      " False  True False False False False False False]\n"
     ]
    }
   ],
   "source": [
    "from sklearn.feature_selection import RFE\n",
    "select = RFE(RandomForestClassifier(n_estimators=100, random_state=1234), n_features_to_select=40)\n",
    "select.fit(X_train, y_train)\n",
    "#Выясним, что это за признаки\n",
    "mask = select.get_support()\n",
    "print(mask)"
   ]
  },
  {
   "cell_type": "code",
   "execution_count": 43,
   "metadata": {},
   "outputs": [
    {
     "name": "stdout",
     "output_type": "stream",
     "text": [
      "Правильность с выбранными признаками: 0.9263157894736842\n"
     ]
    }
   ],
   "source": [
    "X_train_rfe = select.transform(X_train)\n",
    "X_test_rfe = select.transform(X_test)\n",
    "score = RandomForestClassifier().fit(X_train_rfe, y_train).score(X_test_rfe, y_test)\n",
    "print(\"Правильность с выбранными признаками: {}\".format(score))"
   ]
  }
 ],
 "metadata": {
  "kernelspec": {
   "display_name": "Python 3",
   "language": "python",
   "name": "python3"
  },
  "language_info": {
   "codemirror_mode": {
    "name": "ipython",
    "version": 3
   },
   "file_extension": ".py",
   "mimetype": "text/x-python",
   "name": "python",
   "nbconvert_exporter": "python",
   "pygments_lexer": "ipython3",
   "version": "3.6.1"
  }
 },
 "nbformat": 4,
 "nbformat_minor": 2
}
