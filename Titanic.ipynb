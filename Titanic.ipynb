{
 "cells": [
  {
   "cell_type": "markdown",
   "metadata": {},
   "source": [
    "## Titanic: Machine Learning from Disaster"
   ]
  },
  {
   "cell_type": "code",
   "execution_count": 129,
   "metadata": {
    "collapsed": true
   },
   "outputs": [],
   "source": [
    "import pandas as pd\n",
    "import numpy as np\n",
    "\n",
    "import matplotlib.pyplot as plt\n",
    "%matplotlib inline\n",
    "\n",
    "import seaborn as sns\n",
    "sns.set()\n",
    "\n",
    "SEED = 1234\n",
    "np.random.seed = SEED"
   ]
  },
  {
   "cell_type": "code",
   "execution_count": 130,
   "metadata": {
    "collapsed": true
   },
   "outputs": [],
   "source": [
    "train, test = pd.read_csv(\n",
    "    'data/titanic/train.csv'\n",
    "    # путь к вашему файлу train\n",
    "), pd.read_csv( \n",
    "    'data/titanic/test.csv'\n",
    "    # путь к вашему файлу test\n",
    ")"
   ]
  },
  {
   "cell_type": "markdown",
   "metadata": {},
   "source": [
    "## Алгоритм 1 (Kaggle 0.72249)"
   ]
  },
  {
   "cell_type": "code",
   "execution_count": 131,
   "metadata": {
    "collapsed": true
   },
   "outputs": [],
   "source": [
    "# Извлечение Title\n",
    "train['Title'] = train['Name'].apply(lambda x: x.split(', ')[1]).apply(lambda x: x.split('.')[0])\n",
    "train['Title'] = train['Title'].replace(['Don','Dona', 'Major', 'Capt', 'Jonkheer', 'Rev', 'Col','Sir','Dr'],'Mr')\n",
    "train['Title'] = train['Title'].replace(['Mlle','Ms'], 'Miss')\n",
    "train['Title'] = train['Title'].replace(['the Countess','Mme','Lady','Dr'], 'Mrs')\n",
    "df = pd.get_dummies(train['Title'],prefix='Title')\n",
    "train = pd.concat([train,df],axis=1)\n",
    "\n",
    "test['Title'] = test['Name'].apply(lambda x: x.split(', ')[1]).apply(lambda x: x.split('.')[0])\n",
    "test['Title'] = test['Title'].replace(['Don','Dona', 'Major', 'Capt', 'Jonkheer', 'Rev', 'Col','Sir','Dr'],'Mr')\n",
    "test['Title'] = test['Title'].replace(['Mlle','Ms'], 'Miss')\n",
    "test['Title'] = test['Title'].replace(['the Countess','Mme','Lady','Dr'], 'Mrs')\n",
    "df = pd.get_dummies(test['Title'],prefix='Title')\n",
    "test = pd.concat([test,df],axis=1)"
   ]
  },
  {
   "cell_type": "code",
   "execution_count": 132,
   "metadata": {
    "collapsed": true
   },
   "outputs": [],
   "source": [
    "#Name_length\n",
    "train['Name_Len'] = train['Name'].apply(lambda x: len(x))\n",
    "train['Name_Len'] = pd.qcut(train['Name_Len'],5)\n",
    "\n",
    "test['Name_Len'] = test['Name'].apply(lambda x: len(x))\n",
    "test['Name_Len'] = pd.qcut(test['Name_Len'],5)"
   ]
  },
  {
   "cell_type": "code",
   "execution_count": 134,
   "metadata": {
    "collapsed": true
   },
   "outputs": [],
   "source": [
    "#Dead_female_family & Survive_male_family\n",
    "train['Surname'] = train['Name'].apply(lambda x:x.split(',')[0])\n",
    "#dead_female_surname = list(set(train[(train.Sex=='female') & (train.Age>=12)\n",
    "#                              & (train.Survived==0) & ((train.Parch>0) | (train.SibSp > 0))]['Surname'].values))\n",
    "#survive_male_surname = list(set(train[(train.Sex=='male') & (train.Age>=12)\n",
    "#                              & (train.Survived==1) & ((train.Parch>0) | (train.SibSp > 0))]['Surname'].values))\n",
    "#train['Dead_female_family'] = np.where(train['Surname'].isin(dead_female_surname),0,1)\n",
    "#train['Survive_male_family'] = np.where(train['Surname'].isin(survive_male_surname),0,1)\n",
    "\n",
    "\n",
    "train = train.drop(['Name','Surname'],axis=1)\n",
    "\n",
    "test['Surname'] = test['Name'].apply(lambda x:x.split(',')[0])\n",
    "#dead_female_surname = list(set(test[(test.Sex=='female') & (test.Age>=12)\n",
    "#                               & ((test.Parch>0) | (test.SibSp > 0))]['Surname'].values))\n",
    "#survive_male_surname = list(set(test[(test.Sex=='male') & (test.Age>=12)\n",
    "#                               & ((test.Parch>0) | (test.SibSp > 0))]['Surname'].values))\n",
    "#test['Dead_female_family'] = np.where(test['Surname'].isin(dead_female_surname),0,1)\n",
    "#test['Survive_male_family'] = np.where(test['Surname'].isin(survive_male_surname),0,1)\n",
    "\n",
    "\n",
    "test = test.drop(['Name','Surname'],axis=1)"
   ]
  },
  {
   "cell_type": "code",
   "execution_count": 135,
   "metadata": {
    "collapsed": true
   },
   "outputs": [],
   "source": [
    "#Age & isChild\n",
    "group = train.groupby(['Title', 'Pclass'])['Age']\n",
    "train['Age'] = group.transform(lambda x: x.fillna(x.median()))\n",
    "\n",
    "train = train.drop('Title',axis=1)\n",
    "\n",
    "train['IsChild'] = np.where(train['Age']<=12,1,0)\n",
    "train['Age'] = pd.cut(train['Age'],5)\n",
    "train = train.drop('Age',axis=1)\n",
    "\n",
    "group = test.groupby(['Title', 'Pclass'])['Age']\n",
    "test['Age'] = group.transform(lambda x: x.fillna(x.median()))\n",
    "\n",
    "test = test.drop('Title',axis=1)\n",
    "\n",
    "test['IsChild'] = np.where(test['Age']<=12,1,0)\n",
    "test['Age'] = pd.cut(test['Age'],5)\n",
    "test = test.drop('Age',axis=1)"
   ]
  },
  {
   "cell_type": "code",
   "execution_count": 136,
   "metadata": {
    "collapsed": true
   },
   "outputs": [],
   "source": [
    "#FamilySize\n",
    "train['FamilySize'] = np.where(train['SibSp']+train['Parch']==0, 'Alone',\n",
    "                                    np.where(train['SibSp']+train['Parch']<=3, 'Small', 'Big'))\n",
    "df = pd.get_dummies(train['FamilySize'],prefix='FamilySize')\n",
    "train = pd.concat([train,df],axis=1).drop(['SibSp','Parch','FamilySize'],axis=1)\n",
    "\n",
    "test['FamilySize'] = np.where(test['SibSp']+test['Parch']==0, 'Alone',\n",
    "                                    np.where(test['SibSp']+test['Parch']<=3, 'Small', 'Big'))\n",
    "df = pd.get_dummies(test['FamilySize'],prefix='FamilySize')\n",
    "test = pd.concat([test,df],axis=1).drop(['SibSp','Parch','FamilySize'],axis=1)"
   ]
  },
  {
   "cell_type": "code",
   "execution_count": 137,
   "metadata": {
    "collapsed": true
   },
   "outputs": [],
   "source": [
    "#Ticket\n",
    "train['Ticket_Lett'] = train['Ticket'].apply(lambda x: str(x)[0])\n",
    "train['Ticket_Lett'] = train['Ticket_Lett'].apply(lambda x: str(x))\n",
    "\n",
    "train['High_Survival_Ticket'] = np.where(train['Ticket_Lett'].isin(['1', '2', 'P']),1,0)\n",
    "train['Low_Survival_Ticket'] = np.where(train['Ticket_Lett'].isin(['A','W','3','7']),1,0)\n",
    "train = train.drop(['Ticket','Ticket_Lett'],axis=1)\n",
    "\n",
    "test['Ticket_Lett'] = test['Ticket'].apply(lambda x: str(x)[0])\n",
    "test['Ticket_Lett'] = test['Ticket_Lett'].apply(lambda x: str(x))\n",
    "\n",
    "test['High_Survival_Ticket'] = np.where(test['Ticket_Lett'].isin(['1', '2', 'P']),1,0)\n",
    "test['Low_Survival_Ticket'] = np.where(test['Ticket_Lett'].isin(['A','W','3','7']),1,0)\n",
    "test = test.drop(['Ticket','Ticket_Lett'],axis=1)"
   ]
  },
  {
   "cell_type": "code",
   "execution_count": 138,
   "metadata": {
    "collapsed": true
   },
   "outputs": [],
   "source": [
    "#Embarked\n",
    "train = train.drop('Embarked',axis=1)\n",
    "test = test.drop('Embarked',axis=1)"
   ]
  },
  {
   "cell_type": "code",
   "execution_count": 139,
   "metadata": {
    "collapsed": true
   },
   "outputs": [],
   "source": [
    "#Cabin\n",
    "train['Cabin_isNull'] = np.where(train['Cabin'].isnull(),0,1)\n",
    "train = train.drop('Cabin',axis=1)\n",
    "\n",
    "test['Cabin_isNull'] = np.where(test['Cabin'].isnull(),0,1)\n",
    "test = test.drop('Cabin',axis=1)"
   ]
  },
  {
   "cell_type": "code",
   "execution_count": 140,
   "metadata": {
    "collapsed": true
   },
   "outputs": [],
   "source": [
    "#PClass\n",
    "df = pd.get_dummies(train['Pclass'],prefix='Pclass')\n",
    "train = pd.concat([train,df],axis=1).drop('Pclass',axis=1)\n",
    "\n",
    "df = pd.get_dummies(test['Pclass'],prefix='Pclass')\n",
    "test = pd.concat([test,df],axis=1).drop('Pclass',axis=1)"
   ]
  },
  {
   "cell_type": "code",
   "execution_count": 141,
   "metadata": {
    "collapsed": true
   },
   "outputs": [],
   "source": [
    "#Sex\n",
    "df = pd.get_dummies(train['Sex'],prefix='Sex')\n",
    "train = pd.concat([train,df],axis=1).drop('Sex',axis=1)\n",
    "\n",
    "df = pd.get_dummies(test['Sex'],prefix='Sex')\n",
    "test = pd.concat([test,df],axis=1).drop('Sex',axis=1)"
   ]
  },
  {
   "cell_type": "code",
   "execution_count": 142,
   "metadata": {
    "collapsed": true
   },
   "outputs": [],
   "source": [
    "#Fare\n",
    "train['Fare'].fillna(train['Fare'].dropna().median(),inplace=True)\n",
    "train['Low_Fare'] = np.where(train['Fare']<=8.662,1,0)\n",
    "train['High_Fare'] = np.where(train['Fare']>=26,1,0)\n",
    "train = train.drop('Fare',axis=1)\n",
    "\n",
    "test['Fare'].fillna(test['Fare'].dropna().median(),inplace=True)\n",
    "test['Low_Fare'] = np.where(test['Fare']<=8.662,1,0)\n",
    "test['High_Fare'] = np.where(test['Fare']>=26,1,0)\n",
    "test = test.drop('Fare',axis=1)"
   ]
  },
  {
   "cell_type": "code",
   "execution_count": 143,
   "metadata": {
    "collapsed": true
   },
   "outputs": [],
   "source": [
    "from sklearn.preprocessing import LabelEncoder\n",
    "from sklearn import preprocessing\n",
    "\n",
    "#Закодировали Name_Len цифрами вместо названий в test & train\n",
    "encName_Len = preprocessing.LabelEncoder()\n",
    "encName_Len.fit(pd.concat((test['Name_Len'], train['Name_Len'])))\n",
    "test['Name_Len'] = encName_Len.transform(test['Name_Len'])\n",
    "train['Name_Len'] = encName_Len.transform(train['Name_Len'])"
   ]
  },
  {
   "cell_type": "code",
   "execution_count": 144,
   "metadata": {},
   "outputs": [
    {
     "data": {
      "text/html": [
       "<div>\n",
       "<style>\n",
       "    .dataframe thead tr:only-child th {\n",
       "        text-align: right;\n",
       "    }\n",
       "\n",
       "    .dataframe thead th {\n",
       "        text-align: left;\n",
       "    }\n",
       "\n",
       "    .dataframe tbody tr th {\n",
       "        vertical-align: top;\n",
       "    }\n",
       "</style>\n",
       "<table border=\"1\" class=\"dataframe\">\n",
       "  <thead>\n",
       "    <tr style=\"text-align: right;\">\n",
       "      <th></th>\n",
       "      <th>PassengerId</th>\n",
       "      <th>Survived</th>\n",
       "      <th>Title_Master</th>\n",
       "      <th>Title_Miss</th>\n",
       "      <th>Title_Mr</th>\n",
       "      <th>Title_Mrs</th>\n",
       "      <th>Name_Len</th>\n",
       "      <th>IsChild</th>\n",
       "      <th>FamilySize_Alone</th>\n",
       "      <th>FamilySize_Big</th>\n",
       "      <th>...</th>\n",
       "      <th>High_Survival_Ticket</th>\n",
       "      <th>Low_Survival_Ticket</th>\n",
       "      <th>Cabin_isNull</th>\n",
       "      <th>Pclass_1</th>\n",
       "      <th>Pclass_2</th>\n",
       "      <th>Pclass_3</th>\n",
       "      <th>Sex_female</th>\n",
       "      <th>Sex_male</th>\n",
       "      <th>Low_Fare</th>\n",
       "      <th>High_Fare</th>\n",
       "    </tr>\n",
       "  </thead>\n",
       "  <tbody>\n",
       "    <tr>\n",
       "      <th>0</th>\n",
       "      <td>1</td>\n",
       "      <td>0</td>\n",
       "      <td>0</td>\n",
       "      <td>0</td>\n",
       "      <td>1</td>\n",
       "      <td>0</td>\n",
       "      <td>2</td>\n",
       "      <td>0</td>\n",
       "      <td>0</td>\n",
       "      <td>0</td>\n",
       "      <td>...</td>\n",
       "      <td>0</td>\n",
       "      <td>1</td>\n",
       "      <td>0</td>\n",
       "      <td>0</td>\n",
       "      <td>0</td>\n",
       "      <td>1</td>\n",
       "      <td>0</td>\n",
       "      <td>1</td>\n",
       "      <td>1</td>\n",
       "      <td>0</td>\n",
       "    </tr>\n",
       "    <tr>\n",
       "      <th>1</th>\n",
       "      <td>2</td>\n",
       "      <td>1</td>\n",
       "      <td>0</td>\n",
       "      <td>0</td>\n",
       "      <td>0</td>\n",
       "      <td>1</td>\n",
       "      <td>8</td>\n",
       "      <td>0</td>\n",
       "      <td>0</td>\n",
       "      <td>0</td>\n",
       "      <td>...</td>\n",
       "      <td>1</td>\n",
       "      <td>0</td>\n",
       "      <td>1</td>\n",
       "      <td>1</td>\n",
       "      <td>0</td>\n",
       "      <td>0</td>\n",
       "      <td>1</td>\n",
       "      <td>0</td>\n",
       "      <td>0</td>\n",
       "      <td>1</td>\n",
       "    </tr>\n",
       "    <tr>\n",
       "      <th>2</th>\n",
       "      <td>3</td>\n",
       "      <td>1</td>\n",
       "      <td>0</td>\n",
       "      <td>1</td>\n",
       "      <td>0</td>\n",
       "      <td>0</td>\n",
       "      <td>2</td>\n",
       "      <td>0</td>\n",
       "      <td>1</td>\n",
       "      <td>0</td>\n",
       "      <td>...</td>\n",
       "      <td>0</td>\n",
       "      <td>0</td>\n",
       "      <td>0</td>\n",
       "      <td>0</td>\n",
       "      <td>0</td>\n",
       "      <td>1</td>\n",
       "      <td>1</td>\n",
       "      <td>0</td>\n",
       "      <td>1</td>\n",
       "      <td>0</td>\n",
       "    </tr>\n",
       "    <tr>\n",
       "      <th>3</th>\n",
       "      <td>4</td>\n",
       "      <td>1</td>\n",
       "      <td>0</td>\n",
       "      <td>0</td>\n",
       "      <td>0</td>\n",
       "      <td>1</td>\n",
       "      <td>8</td>\n",
       "      <td>0</td>\n",
       "      <td>0</td>\n",
       "      <td>0</td>\n",
       "      <td>...</td>\n",
       "      <td>1</td>\n",
       "      <td>0</td>\n",
       "      <td>1</td>\n",
       "      <td>1</td>\n",
       "      <td>0</td>\n",
       "      <td>0</td>\n",
       "      <td>1</td>\n",
       "      <td>0</td>\n",
       "      <td>0</td>\n",
       "      <td>1</td>\n",
       "    </tr>\n",
       "    <tr>\n",
       "      <th>4</th>\n",
       "      <td>5</td>\n",
       "      <td>0</td>\n",
       "      <td>0</td>\n",
       "      <td>0</td>\n",
       "      <td>1</td>\n",
       "      <td>0</td>\n",
       "      <td>4</td>\n",
       "      <td>0</td>\n",
       "      <td>1</td>\n",
       "      <td>0</td>\n",
       "      <td>...</td>\n",
       "      <td>0</td>\n",
       "      <td>1</td>\n",
       "      <td>0</td>\n",
       "      <td>0</td>\n",
       "      <td>0</td>\n",
       "      <td>1</td>\n",
       "      <td>0</td>\n",
       "      <td>1</td>\n",
       "      <td>1</td>\n",
       "      <td>0</td>\n",
       "    </tr>\n",
       "  </tbody>\n",
       "</table>\n",
       "<p>5 rows × 21 columns</p>\n",
       "</div>"
      ],
      "text/plain": [
       "   PassengerId  Survived  Title_Master  Title_Miss  Title_Mr  Title_Mrs  \\\n",
       "0            1         0             0           0         1          0   \n",
       "1            2         1             0           0         0          1   \n",
       "2            3         1             0           1         0          0   \n",
       "3            4         1             0           0         0          1   \n",
       "4            5         0             0           0         1          0   \n",
       "\n",
       "   Name_Len  IsChild  FamilySize_Alone  FamilySize_Big    ...      \\\n",
       "0         2        0                 0               0    ...       \n",
       "1         8        0                 0               0    ...       \n",
       "2         2        0                 1               0    ...       \n",
       "3         8        0                 0               0    ...       \n",
       "4         4        0                 1               0    ...       \n",
       "\n",
       "   High_Survival_Ticket  Low_Survival_Ticket  Cabin_isNull  Pclass_1  \\\n",
       "0                     0                    1             0         0   \n",
       "1                     1                    0             1         1   \n",
       "2                     0                    0             0         0   \n",
       "3                     1                    0             1         1   \n",
       "4                     0                    1             0         0   \n",
       "\n",
       "   Pclass_2  Pclass_3  Sex_female  Sex_male  Low_Fare  High_Fare  \n",
       "0         0         1           0         1         1          0  \n",
       "1         0         0           1         0         0          1  \n",
       "2         0         1           1         0         1          0  \n",
       "3         0         0           1         0         0          1  \n",
       "4         0         1           0         1         1          0  \n",
       "\n",
       "[5 rows x 21 columns]"
      ]
     },
     "execution_count": 144,
     "metadata": {},
     "output_type": "execute_result"
    }
   ],
   "source": [
    "train.head()"
   ]
  },
  {
   "cell_type": "code",
   "execution_count": 145,
   "metadata": {
    "collapsed": true
   },
   "outputs": [],
   "source": [
    "#Подготовили данные так, что X_tr - таблица без id и Survived, а в y_tr сохранены Survived\n",
    "X_tr, y_tr = train.drop(['PassengerId', 'Survived'], axis=1), train['Survived']"
   ]
  },
  {
   "cell_type": "code",
   "execution_count": 146,
   "metadata": {
    "collapsed": true
   },
   "outputs": [],
   "source": [
    "#Сделаем скейлинг данных\n",
    "from sklearn.preprocessing import MinMaxScaler\n",
    "scaler = MinMaxScaler()\n",
    "\n",
    "scaler.fit(X_tr)\n",
    "#Преобразуем тренировочные данные\n",
    "X_tr_scaled = scaler.transform(X_tr)\n",
    "#Преобразуем тестовые данные\n",
    "X_te = test.drop(['PassengerId'], axis=1)\n",
    "X_te_scaled = scaler.transform(X_te)"
   ]
  },
  {
   "cell_type": "code",
   "execution_count": 152,
   "metadata": {},
   "outputs": [
    {
     "data": {
      "text/plain": [
       "Pipeline(steps=[('polynomialfeatures', PolynomialFeatures(degree=2, include_bias=True, interaction_only=False)), ('lgbmclassifier', LGBMClassifier(boosting_type='gbdt', colsample_bytree=1, learning_rate=0.1,\n",
       "        max_bin=255, max_depth=-1, min_child_samples=10,\n",
       "        min_child_weight=5, min_split_gain=0, n_estimators=10, nthread=-1,\n",
       "        num_leaves=31, objective='binary', reg_alpha=0, reg_lambda=0,\n",
       "        seed=0, silent=True, subsample=1, subsample_for_bin=50000,\n",
       "        subsample_freq=1))])"
      ]
     },
     "execution_count": 152,
     "metadata": {},
     "output_type": "execute_result"
    }
   ],
   "source": [
    "from sklearn.preprocessing import PolynomialFeatures #Препроцессинг \n",
    "from lightgbm import LGBMClassifier\n",
    "\n",
    "from sklearn.pipeline import make_pipeline\n",
    "\n",
    "from sklearn.svm import SVC \n",
    "#SVC(probability=True)\n",
    "\n",
    "pipe = make_pipeline(PolynomialFeatures(), LGBMClassifier())\n",
    "pipe"
   ]
  },
  {
   "cell_type": "code",
   "execution_count": 153,
   "metadata": {
    "collapsed": true
   },
   "outputs": [],
   "source": [
    "param_grid = {\n",
    "    #'polynomialfeatures__degree': [1, 2, 3],\n",
    "    #'lgbmclassifier__learning_rate': [0.1, 0.3, 0.4, 0.5, 0.7, 0.9],\n",
    "    #'lgbmclassifier__max_bin': [100, 150, 200, 250],\n",
    "    #'lgbmclassifier__n_estimators': [10, 15, 20, 25],\n",
    "    #'lgbmclassifier__num_leaves': [10, 20, 30, 40, 50],\n",
    "    'polynomialfeatures__degree': [3],\n",
    "    #'svc__C': [1, 10, 100, 200, 400]  #10\n",
    "    'lgbmclassifier__learning_rate': [0.9],\n",
    "    'lgbmclassifier__max_bin': [100],\n",
    "    'lgbmclassifier__n_estimators': [15],\n",
    "    'lgbmclassifier__num_leaves': [30]\n",
    "}"
   ]
  },
  {
   "cell_type": "code",
   "execution_count": 154,
   "metadata": {},
   "outputs": [
    {
     "name": "stdout",
     "output_type": "stream",
     "text": [
      "Наилучшие параметры: {'lgbmclassifier__learning_rate': 0.9, 'lgbmclassifier__max_bin': 100, 'lgbmclassifier__n_estimators': 15, 'lgbmclassifier__num_leaves': 30, 'polynomialfeatures__degree': 3}\n"
     ]
    }
   ],
   "source": [
    "from sklearn.model_selection import GridSearchCV\n",
    "\n",
    "clf = GridSearchCV(pipe, param_grid=param_grid, cv=5, n_jobs=-1)\n",
    "\n",
    "clf.fit(X_tr_scaled, y_tr)\n",
    "y_te = clf.predict(X_te_scaled)\n",
    "print(\"Наилучшие параметры: {}\".format(clf.best_params_))"
   ]
  },
  {
   "cell_type": "code",
   "execution_count": 155,
   "metadata": {},
   "outputs": [
    {
     "name": "stdout",
     "output_type": "stream",
     "text": [
      "Среднее значение кросс-валидации: 0.8383654510074697\n"
     ]
    }
   ],
   "source": [
    "from sklearn.model_selection import cross_val_score\n",
    "from sklearn.model_selection import KFold\n",
    "\n",
    "kf = KFold(n_splits=5, shuffle=True, random_state=1234)\n",
    "\n",
    "scores = cross_val_score(clf, X_tr_scaled, y_tr, cv=kf, n_jobs=-1)\n",
    "print(\"Среднее значение кросс-валидации: {}\".format(np.mean(scores)))"
   ]
  },
  {
   "cell_type": "code",
   "execution_count": 156,
   "metadata": {
    "collapsed": true
   },
   "outputs": [],
   "source": [
    "#for catboost\n",
    "y_te = y_te.astype(np.int64)\n",
    "\n",
    "ans = pd.DataFrame({'PassengerId': test['PassengerId'], 'Survived': y_te})\n",
    "ans.to_csv('ans_titanic.csv', index=False)"
   ]
  },
  {
   "cell_type": "markdown",
   "metadata": {},
   "source": [
    "## Алгоритм 2 (Kaggle 0.77512)"
   ]
  },
  {
   "cell_type": "code",
   "execution_count": 333,
   "metadata": {},
   "outputs": [
    {
     "data": {
      "text/html": [
       "<div>\n",
       "<style>\n",
       "    .dataframe thead tr:only-child th {\n",
       "        text-align: right;\n",
       "    }\n",
       "\n",
       "    .dataframe thead th {\n",
       "        text-align: left;\n",
       "    }\n",
       "\n",
       "    .dataframe tbody tr th {\n",
       "        vertical-align: top;\n",
       "    }\n",
       "</style>\n",
       "<table border=\"1\" class=\"dataframe\">\n",
       "  <thead>\n",
       "    <tr style=\"text-align: right;\">\n",
       "      <th></th>\n",
       "      <th>PassengerId</th>\n",
       "      <th>Survived</th>\n",
       "      <th>Pclass</th>\n",
       "      <th>Name</th>\n",
       "      <th>Sex</th>\n",
       "      <th>Age</th>\n",
       "      <th>SibSp</th>\n",
       "      <th>Parch</th>\n",
       "      <th>Ticket</th>\n",
       "      <th>Fare</th>\n",
       "      <th>Cabin</th>\n",
       "      <th>Embarked</th>\n",
       "    </tr>\n",
       "  </thead>\n",
       "  <tbody>\n",
       "    <tr>\n",
       "      <th>0</th>\n",
       "      <td>1</td>\n",
       "      <td>0</td>\n",
       "      <td>3</td>\n",
       "      <td>Braund, Mr. Owen Harris</td>\n",
       "      <td>male</td>\n",
       "      <td>22.0</td>\n",
       "      <td>1</td>\n",
       "      <td>0</td>\n",
       "      <td>A/5 21171</td>\n",
       "      <td>7.2500</td>\n",
       "      <td>NaN</td>\n",
       "      <td>S</td>\n",
       "    </tr>\n",
       "    <tr>\n",
       "      <th>1</th>\n",
       "      <td>2</td>\n",
       "      <td>1</td>\n",
       "      <td>1</td>\n",
       "      <td>Cumings, Mrs. John Bradley (Florence Briggs Th...</td>\n",
       "      <td>female</td>\n",
       "      <td>38.0</td>\n",
       "      <td>1</td>\n",
       "      <td>0</td>\n",
       "      <td>PC 17599</td>\n",
       "      <td>71.2833</td>\n",
       "      <td>C85</td>\n",
       "      <td>C</td>\n",
       "    </tr>\n",
       "    <tr>\n",
       "      <th>2</th>\n",
       "      <td>3</td>\n",
       "      <td>1</td>\n",
       "      <td>3</td>\n",
       "      <td>Heikkinen, Miss. Laina</td>\n",
       "      <td>female</td>\n",
       "      <td>26.0</td>\n",
       "      <td>0</td>\n",
       "      <td>0</td>\n",
       "      <td>STON/O2. 3101282</td>\n",
       "      <td>7.9250</td>\n",
       "      <td>NaN</td>\n",
       "      <td>S</td>\n",
       "    </tr>\n",
       "    <tr>\n",
       "      <th>3</th>\n",
       "      <td>4</td>\n",
       "      <td>1</td>\n",
       "      <td>1</td>\n",
       "      <td>Futrelle, Mrs. Jacques Heath (Lily May Peel)</td>\n",
       "      <td>female</td>\n",
       "      <td>35.0</td>\n",
       "      <td>1</td>\n",
       "      <td>0</td>\n",
       "      <td>113803</td>\n",
       "      <td>53.1000</td>\n",
       "      <td>C123</td>\n",
       "      <td>S</td>\n",
       "    </tr>\n",
       "    <tr>\n",
       "      <th>4</th>\n",
       "      <td>5</td>\n",
       "      <td>0</td>\n",
       "      <td>3</td>\n",
       "      <td>Allen, Mr. William Henry</td>\n",
       "      <td>male</td>\n",
       "      <td>35.0</td>\n",
       "      <td>0</td>\n",
       "      <td>0</td>\n",
       "      <td>373450</td>\n",
       "      <td>8.0500</td>\n",
       "      <td>NaN</td>\n",
       "      <td>S</td>\n",
       "    </tr>\n",
       "  </tbody>\n",
       "</table>\n",
       "</div>"
      ],
      "text/plain": [
       "   PassengerId  Survived  Pclass  \\\n",
       "0            1         0       3   \n",
       "1            2         1       1   \n",
       "2            3         1       3   \n",
       "3            4         1       1   \n",
       "4            5         0       3   \n",
       "\n",
       "                                                Name     Sex   Age  SibSp  \\\n",
       "0                            Braund, Mr. Owen Harris    male  22.0      1   \n",
       "1  Cumings, Mrs. John Bradley (Florence Briggs Th...  female  38.0      1   \n",
       "2                             Heikkinen, Miss. Laina  female  26.0      0   \n",
       "3       Futrelle, Mrs. Jacques Heath (Lily May Peel)  female  35.0      1   \n",
       "4                           Allen, Mr. William Henry    male  35.0      0   \n",
       "\n",
       "   Parch            Ticket     Fare Cabin Embarked  \n",
       "0      0         A/5 21171   7.2500   NaN        S  \n",
       "1      0          PC 17599  71.2833   C85        C  \n",
       "2      0  STON/O2. 3101282   7.9250   NaN        S  \n",
       "3      0            113803  53.1000  C123        S  \n",
       "4      0            373450   8.0500   NaN        S  "
      ]
     },
     "execution_count": 333,
     "metadata": {},
     "output_type": "execute_result"
    }
   ],
   "source": [
    "train.head()"
   ]
  },
  {
   "cell_type": "code",
   "execution_count": 334,
   "metadata": {
    "collapsed": true
   },
   "outputs": [],
   "source": [
    "#Удалим уж совсем бессмысленные столбцы\n",
    "test = test.drop(['Name', 'Ticket', 'Cabin'], axis=1)\n",
    "train = train.drop(['Name', 'Ticket', 'Cabin'], axis=1)"
   ]
  },
  {
   "cell_type": "code",
   "execution_count": 335,
   "metadata": {
    "collapsed": true
   },
   "outputs": [],
   "source": [
    "from sklearn.preprocessing import LabelEncoder\n",
    "from sklearn import preprocessing"
   ]
  },
  {
   "cell_type": "code",
   "execution_count": 336,
   "metadata": {},
   "outputs": [
    {
     "data": {
      "text/html": [
       "<div>\n",
       "<style>\n",
       "    .dataframe thead tr:only-child th {\n",
       "        text-align: right;\n",
       "    }\n",
       "\n",
       "    .dataframe thead th {\n",
       "        text-align: left;\n",
       "    }\n",
       "\n",
       "    .dataframe tbody tr th {\n",
       "        vertical-align: top;\n",
       "    }\n",
       "</style>\n",
       "<table border=\"1\" class=\"dataframe\">\n",
       "  <thead>\n",
       "    <tr style=\"text-align: right;\">\n",
       "      <th></th>\n",
       "      <th>PassengerId</th>\n",
       "      <th>Survived</th>\n",
       "      <th>Pclass</th>\n",
       "      <th>Sex</th>\n",
       "      <th>Age</th>\n",
       "      <th>SibSp</th>\n",
       "      <th>Parch</th>\n",
       "      <th>Fare</th>\n",
       "      <th>Embarked</th>\n",
       "    </tr>\n",
       "  </thead>\n",
       "  <tbody>\n",
       "    <tr>\n",
       "      <th>0</th>\n",
       "      <td>1</td>\n",
       "      <td>0</td>\n",
       "      <td>3</td>\n",
       "      <td>male</td>\n",
       "      <td>22.0</td>\n",
       "      <td>1</td>\n",
       "      <td>0</td>\n",
       "      <td>7.2500</td>\n",
       "      <td>S</td>\n",
       "    </tr>\n",
       "    <tr>\n",
       "      <th>1</th>\n",
       "      <td>2</td>\n",
       "      <td>1</td>\n",
       "      <td>1</td>\n",
       "      <td>female</td>\n",
       "      <td>38.0</td>\n",
       "      <td>1</td>\n",
       "      <td>0</td>\n",
       "      <td>71.2833</td>\n",
       "      <td>C</td>\n",
       "    </tr>\n",
       "    <tr>\n",
       "      <th>2</th>\n",
       "      <td>3</td>\n",
       "      <td>1</td>\n",
       "      <td>3</td>\n",
       "      <td>female</td>\n",
       "      <td>26.0</td>\n",
       "      <td>0</td>\n",
       "      <td>0</td>\n",
       "      <td>7.9250</td>\n",
       "      <td>S</td>\n",
       "    </tr>\n",
       "    <tr>\n",
       "      <th>3</th>\n",
       "      <td>4</td>\n",
       "      <td>1</td>\n",
       "      <td>1</td>\n",
       "      <td>female</td>\n",
       "      <td>35.0</td>\n",
       "      <td>1</td>\n",
       "      <td>0</td>\n",
       "      <td>53.1000</td>\n",
       "      <td>S</td>\n",
       "    </tr>\n",
       "    <tr>\n",
       "      <th>4</th>\n",
       "      <td>5</td>\n",
       "      <td>0</td>\n",
       "      <td>3</td>\n",
       "      <td>male</td>\n",
       "      <td>35.0</td>\n",
       "      <td>0</td>\n",
       "      <td>0</td>\n",
       "      <td>8.0500</td>\n",
       "      <td>S</td>\n",
       "    </tr>\n",
       "  </tbody>\n",
       "</table>\n",
       "</div>"
      ],
      "text/plain": [
       "   PassengerId  Survived  Pclass     Sex   Age  SibSp  Parch     Fare Embarked\n",
       "0            1         0       3    male  22.0      1      0   7.2500        S\n",
       "1            2         1       1  female  38.0      1      0  71.2833        C\n",
       "2            3         1       3  female  26.0      0      0   7.9250        S\n",
       "3            4         1       1  female  35.0      1      0  53.1000        S\n",
       "4            5         0       3    male  35.0      0      0   8.0500        S"
      ]
     },
     "execution_count": 336,
     "metadata": {},
     "output_type": "execute_result"
    }
   ],
   "source": [
    "train.head()"
   ]
  },
  {
   "cell_type": "code",
   "execution_count": 337,
   "metadata": {
    "collapsed": true
   },
   "outputs": [],
   "source": [
    "#train.Age.value_counts().sort_index()"
   ]
  },
  {
   "cell_type": "code",
   "execution_count": 338,
   "metadata": {
    "collapsed": true
   },
   "outputs": [],
   "source": [
    "train['SimpleAge'] = pd.cut(train.Age, bins=[0, 12, 23, 30, 45, 120], \n",
    "                   labels=['child', 'teen', 'young', 'adult', 'aged'])\n",
    "\n",
    "test['SimpleAge'] = pd.cut(test.Age, bins=[0, 12, 23, 30, 45, 120], \n",
    "                   labels=['child', 'teen', 'young', 'adult', 'aged'])\n",
    "\n",
    "test = test.drop(['Age'], axis=1)\n",
    "train = train.drop(['Age'], axis=1)"
   ]
  },
  {
   "cell_type": "code",
   "execution_count": 339,
   "metadata": {},
   "outputs": [
    {
     "data": {
      "text/html": [
       "<div>\n",
       "<style>\n",
       "    .dataframe thead tr:only-child th {\n",
       "        text-align: right;\n",
       "    }\n",
       "\n",
       "    .dataframe thead th {\n",
       "        text-align: left;\n",
       "    }\n",
       "\n",
       "    .dataframe tbody tr th {\n",
       "        vertical-align: top;\n",
       "    }\n",
       "</style>\n",
       "<table border=\"1\" class=\"dataframe\">\n",
       "  <thead>\n",
       "    <tr style=\"text-align: right;\">\n",
       "      <th></th>\n",
       "      <th>PassengerId</th>\n",
       "      <th>Pclass</th>\n",
       "      <th>Sex</th>\n",
       "      <th>SibSp</th>\n",
       "      <th>Parch</th>\n",
       "      <th>Fare</th>\n",
       "      <th>Embarked</th>\n",
       "      <th>SimpleAge</th>\n",
       "    </tr>\n",
       "  </thead>\n",
       "  <tbody>\n",
       "    <tr>\n",
       "      <th>0</th>\n",
       "      <td>892</td>\n",
       "      <td>3</td>\n",
       "      <td>male</td>\n",
       "      <td>0</td>\n",
       "      <td>0</td>\n",
       "      <td>7.8292</td>\n",
       "      <td>Q</td>\n",
       "      <td>adult</td>\n",
       "    </tr>\n",
       "    <tr>\n",
       "      <th>1</th>\n",
       "      <td>893</td>\n",
       "      <td>3</td>\n",
       "      <td>female</td>\n",
       "      <td>1</td>\n",
       "      <td>0</td>\n",
       "      <td>7.0000</td>\n",
       "      <td>S</td>\n",
       "      <td>aged</td>\n",
       "    </tr>\n",
       "    <tr>\n",
       "      <th>2</th>\n",
       "      <td>894</td>\n",
       "      <td>2</td>\n",
       "      <td>male</td>\n",
       "      <td>0</td>\n",
       "      <td>0</td>\n",
       "      <td>9.6875</td>\n",
       "      <td>Q</td>\n",
       "      <td>aged</td>\n",
       "    </tr>\n",
       "    <tr>\n",
       "      <th>3</th>\n",
       "      <td>895</td>\n",
       "      <td>3</td>\n",
       "      <td>male</td>\n",
       "      <td>0</td>\n",
       "      <td>0</td>\n",
       "      <td>8.6625</td>\n",
       "      <td>S</td>\n",
       "      <td>young</td>\n",
       "    </tr>\n",
       "    <tr>\n",
       "      <th>4</th>\n",
       "      <td>896</td>\n",
       "      <td>3</td>\n",
       "      <td>female</td>\n",
       "      <td>1</td>\n",
       "      <td>1</td>\n",
       "      <td>12.2875</td>\n",
       "      <td>S</td>\n",
       "      <td>teen</td>\n",
       "    </tr>\n",
       "  </tbody>\n",
       "</table>\n",
       "</div>"
      ],
      "text/plain": [
       "   PassengerId  Pclass     Sex  SibSp  Parch     Fare Embarked SimpleAge\n",
       "0          892       3    male      0      0   7.8292        Q     adult\n",
       "1          893       3  female      1      0   7.0000        S      aged\n",
       "2          894       2    male      0      0   9.6875        Q      aged\n",
       "3          895       3    male      0      0   8.6625        S     young\n",
       "4          896       3  female      1      1  12.2875        S      teen"
      ]
     },
     "execution_count": 339,
     "metadata": {},
     "output_type": "execute_result"
    }
   ],
   "source": [
    "test.head()"
   ]
  },
  {
   "cell_type": "code",
   "execution_count": 340,
   "metadata": {},
   "outputs": [
    {
     "data": {
      "text/plain": [
       "adult    80\n",
       "aged     52\n",
       "child    25\n",
       "teen     89\n",
       "young    86\n",
       "Name: SimpleAge, dtype: int64"
      ]
     },
     "execution_count": 340,
     "metadata": {},
     "output_type": "execute_result"
    }
   ],
   "source": [
    "test.SimpleAge.value_counts().sort_index()"
   ]
  },
  {
   "cell_type": "code",
   "execution_count": 341,
   "metadata": {
    "collapsed": true
   },
   "outputs": [],
   "source": [
    "#train.Fare.value_counts().sort_index()"
   ]
  },
  {
   "cell_type": "code",
   "execution_count": 342,
   "metadata": {
    "collapsed": true
   },
   "outputs": [],
   "source": [
    "train['SimpleFare'] = pd.cut(train.Fare, bins=[0, 8, 16, 32, 64, 128, 256, 514], \n",
    "                   labels=['one', 'two', 'three', 'four', 'five', 'six', 'seven'])\n",
    "\n",
    "test['SimpleFare'] = pd.cut(test.Fare, bins=[0, 8, 16, 32, 64, 128, 256, 514], \n",
    "                   labels=['one', 'two', 'three', 'four', 'five', 'six', 'seven'])\n",
    "\n",
    "test = test.drop(['Fare'], axis=1)\n",
    "train = train.drop(['Fare'], axis=1)"
   ]
  },
  {
   "cell_type": "code",
   "execution_count": 343,
   "metadata": {},
   "outputs": [
    {
     "data": {
      "text/html": [
       "<div>\n",
       "<style>\n",
       "    .dataframe thead tr:only-child th {\n",
       "        text-align: right;\n",
       "    }\n",
       "\n",
       "    .dataframe thead th {\n",
       "        text-align: left;\n",
       "    }\n",
       "\n",
       "    .dataframe tbody tr th {\n",
       "        vertical-align: top;\n",
       "    }\n",
       "</style>\n",
       "<table border=\"1\" class=\"dataframe\">\n",
       "  <thead>\n",
       "    <tr style=\"text-align: right;\">\n",
       "      <th></th>\n",
       "      <th>PassengerId</th>\n",
       "      <th>Survived</th>\n",
       "      <th>Pclass</th>\n",
       "      <th>Sex</th>\n",
       "      <th>SibSp</th>\n",
       "      <th>Parch</th>\n",
       "      <th>Embarked</th>\n",
       "      <th>SimpleAge</th>\n",
       "      <th>SimpleFare</th>\n",
       "    </tr>\n",
       "  </thead>\n",
       "  <tbody>\n",
       "    <tr>\n",
       "      <th>0</th>\n",
       "      <td>1</td>\n",
       "      <td>0</td>\n",
       "      <td>3</td>\n",
       "      <td>male</td>\n",
       "      <td>1</td>\n",
       "      <td>0</td>\n",
       "      <td>S</td>\n",
       "      <td>teen</td>\n",
       "      <td>one</td>\n",
       "    </tr>\n",
       "    <tr>\n",
       "      <th>1</th>\n",
       "      <td>2</td>\n",
       "      <td>1</td>\n",
       "      <td>1</td>\n",
       "      <td>female</td>\n",
       "      <td>1</td>\n",
       "      <td>0</td>\n",
       "      <td>C</td>\n",
       "      <td>adult</td>\n",
       "      <td>five</td>\n",
       "    </tr>\n",
       "    <tr>\n",
       "      <th>2</th>\n",
       "      <td>3</td>\n",
       "      <td>1</td>\n",
       "      <td>3</td>\n",
       "      <td>female</td>\n",
       "      <td>0</td>\n",
       "      <td>0</td>\n",
       "      <td>S</td>\n",
       "      <td>young</td>\n",
       "      <td>one</td>\n",
       "    </tr>\n",
       "    <tr>\n",
       "      <th>3</th>\n",
       "      <td>4</td>\n",
       "      <td>1</td>\n",
       "      <td>1</td>\n",
       "      <td>female</td>\n",
       "      <td>1</td>\n",
       "      <td>0</td>\n",
       "      <td>S</td>\n",
       "      <td>adult</td>\n",
       "      <td>four</td>\n",
       "    </tr>\n",
       "    <tr>\n",
       "      <th>4</th>\n",
       "      <td>5</td>\n",
       "      <td>0</td>\n",
       "      <td>3</td>\n",
       "      <td>male</td>\n",
       "      <td>0</td>\n",
       "      <td>0</td>\n",
       "      <td>S</td>\n",
       "      <td>adult</td>\n",
       "      <td>two</td>\n",
       "    </tr>\n",
       "  </tbody>\n",
       "</table>\n",
       "</div>"
      ],
      "text/plain": [
       "   PassengerId  Survived  Pclass     Sex  SibSp  Parch Embarked SimpleAge  \\\n",
       "0            1         0       3    male      1      0        S      teen   \n",
       "1            2         1       1  female      1      0        C     adult   \n",
       "2            3         1       3  female      0      0        S     young   \n",
       "3            4         1       1  female      1      0        S     adult   \n",
       "4            5         0       3    male      0      0        S     adult   \n",
       "\n",
       "  SimpleFare  \n",
       "0        one  \n",
       "1       five  \n",
       "2        one  \n",
       "3       four  \n",
       "4        two  "
      ]
     },
     "execution_count": 343,
     "metadata": {},
     "output_type": "execute_result"
    }
   ],
   "source": [
    "train.head()"
   ]
  },
  {
   "cell_type": "code",
   "execution_count": 344,
   "metadata": {},
   "outputs": [
    {
     "data": {
      "text/plain": [
       "five      80\n",
       "four      93\n",
       "one      226\n",
       "seven      9\n",
       "six       29\n",
       "three    195\n",
       "two      244\n",
       "Name: SimpleFare, dtype: int64"
      ]
     },
     "execution_count": 344,
     "metadata": {},
     "output_type": "execute_result"
    }
   ],
   "source": [
    "train.SimpleFare.value_counts().sort_index()"
   ]
  },
  {
   "cell_type": "code",
   "execution_count": 345,
   "metadata": {},
   "outputs": [
    {
     "data": {
      "text/plain": [
       "PassengerId       int64\n",
       "Survived          int64\n",
       "Pclass            int64\n",
       "Sex              object\n",
       "SibSp             int64\n",
       "Parch             int64\n",
       "Embarked         object\n",
       "SimpleAge      category\n",
       "SimpleFare     category\n",
       "dtype: object"
      ]
     },
     "execution_count": 345,
     "metadata": {},
     "output_type": "execute_result"
    }
   ],
   "source": [
    "train.dtypes"
   ]
  },
  {
   "cell_type": "code",
   "execution_count": 346,
   "metadata": {
    "collapsed": true
   },
   "outputs": [],
   "source": [
    "#Закодировали Sex цифрами вместо названий в test & train\n",
    "encSex = preprocessing.LabelEncoder()\n",
    "encSex.fit(pd.concat((test['Sex'], train['Sex'])))\n",
    "test['Sex'] = encSex.transform(test['Sex'])\n",
    "train['Sex'] = encSex.transform(train['Sex'])"
   ]
  },
  {
   "cell_type": "code",
   "execution_count": 347,
   "metadata": {},
   "outputs": [
    {
     "data": {
      "text/html": [
       "<div>\n",
       "<style>\n",
       "    .dataframe thead tr:only-child th {\n",
       "        text-align: right;\n",
       "    }\n",
       "\n",
       "    .dataframe thead th {\n",
       "        text-align: left;\n",
       "    }\n",
       "\n",
       "    .dataframe tbody tr th {\n",
       "        vertical-align: top;\n",
       "    }\n",
       "</style>\n",
       "<table border=\"1\" class=\"dataframe\">\n",
       "  <thead>\n",
       "    <tr style=\"text-align: right;\">\n",
       "      <th></th>\n",
       "      <th>PassengerId</th>\n",
       "      <th>Survived</th>\n",
       "      <th>Pclass</th>\n",
       "      <th>Sex</th>\n",
       "      <th>SibSp</th>\n",
       "      <th>Parch</th>\n",
       "      <th>Embarked</th>\n",
       "      <th>SimpleAge</th>\n",
       "      <th>SimpleFare</th>\n",
       "    </tr>\n",
       "  </thead>\n",
       "  <tbody>\n",
       "    <tr>\n",
       "      <th>0</th>\n",
       "      <td>1</td>\n",
       "      <td>0</td>\n",
       "      <td>3</td>\n",
       "      <td>1</td>\n",
       "      <td>1</td>\n",
       "      <td>0</td>\n",
       "      <td>S</td>\n",
       "      <td>teen</td>\n",
       "      <td>one</td>\n",
       "    </tr>\n",
       "    <tr>\n",
       "      <th>1</th>\n",
       "      <td>2</td>\n",
       "      <td>1</td>\n",
       "      <td>1</td>\n",
       "      <td>0</td>\n",
       "      <td>1</td>\n",
       "      <td>0</td>\n",
       "      <td>C</td>\n",
       "      <td>adult</td>\n",
       "      <td>five</td>\n",
       "    </tr>\n",
       "    <tr>\n",
       "      <th>2</th>\n",
       "      <td>3</td>\n",
       "      <td>1</td>\n",
       "      <td>3</td>\n",
       "      <td>0</td>\n",
       "      <td>0</td>\n",
       "      <td>0</td>\n",
       "      <td>S</td>\n",
       "      <td>young</td>\n",
       "      <td>one</td>\n",
       "    </tr>\n",
       "    <tr>\n",
       "      <th>3</th>\n",
       "      <td>4</td>\n",
       "      <td>1</td>\n",
       "      <td>1</td>\n",
       "      <td>0</td>\n",
       "      <td>1</td>\n",
       "      <td>0</td>\n",
       "      <td>S</td>\n",
       "      <td>adult</td>\n",
       "      <td>four</td>\n",
       "    </tr>\n",
       "    <tr>\n",
       "      <th>4</th>\n",
       "      <td>5</td>\n",
       "      <td>0</td>\n",
       "      <td>3</td>\n",
       "      <td>1</td>\n",
       "      <td>0</td>\n",
       "      <td>0</td>\n",
       "      <td>S</td>\n",
       "      <td>adult</td>\n",
       "      <td>two</td>\n",
       "    </tr>\n",
       "  </tbody>\n",
       "</table>\n",
       "</div>"
      ],
      "text/plain": [
       "   PassengerId  Survived  Pclass  Sex  SibSp  Parch Embarked SimpleAge  \\\n",
       "0            1         0       3    1      1      0        S      teen   \n",
       "1            2         1       1    0      1      0        C     adult   \n",
       "2            3         1       3    0      0      0        S     young   \n",
       "3            4         1       1    0      1      0        S     adult   \n",
       "4            5         0       3    1      0      0        S     adult   \n",
       "\n",
       "  SimpleFare  \n",
       "0        one  \n",
       "1       five  \n",
       "2        one  \n",
       "3       four  \n",
       "4        two  "
      ]
     },
     "execution_count": 347,
     "metadata": {},
     "output_type": "execute_result"
    }
   ],
   "source": [
    "train.head()"
   ]
  },
  {
   "cell_type": "code",
   "execution_count": 348,
   "metadata": {
    "collapsed": true
   },
   "outputs": [],
   "source": [
    "train.loc[train.Embarked.isnull(), 'Embarked'] = 'Unknown'\n",
    "test.loc[test.Embarked.isnull(), 'Embarked'] = 'Unknown'"
   ]
  },
  {
   "cell_type": "code",
   "execution_count": 349,
   "metadata": {},
   "outputs": [
    {
     "data": {
      "text/plain": [
       "C    102\n",
       "Q     46\n",
       "S    270\n",
       "Name: Embarked, dtype: int64"
      ]
     },
     "execution_count": 349,
     "metadata": {},
     "output_type": "execute_result"
    }
   ],
   "source": [
    "test.Embarked.value_counts().sort_index()"
   ]
  },
  {
   "cell_type": "code",
   "execution_count": 350,
   "metadata": {
    "collapsed": true
   },
   "outputs": [],
   "source": [
    "#Закодировали Embarked цифрами вместо названий в test & train\n",
    "encEmbarked = preprocessing.LabelEncoder()\n",
    "encEmbarked.fit(pd.concat((test['Embarked'], train['Embarked'])))\n",
    "test['Embarked'] = encEmbarked.transform(test['Embarked'])\n",
    "train['Embarked'] = encEmbarked.transform(train['Embarked'])"
   ]
  },
  {
   "cell_type": "code",
   "execution_count": 351,
   "metadata": {
    "scrolled": false
   },
   "outputs": [
    {
     "data": {
      "text/html": [
       "<div>\n",
       "<style>\n",
       "    .dataframe thead tr:only-child th {\n",
       "        text-align: right;\n",
       "    }\n",
       "\n",
       "    .dataframe thead th {\n",
       "        text-align: left;\n",
       "    }\n",
       "\n",
       "    .dataframe tbody tr th {\n",
       "        vertical-align: top;\n",
       "    }\n",
       "</style>\n",
       "<table border=\"1\" class=\"dataframe\">\n",
       "  <thead>\n",
       "    <tr style=\"text-align: right;\">\n",
       "      <th></th>\n",
       "      <th>PassengerId</th>\n",
       "      <th>Pclass</th>\n",
       "      <th>Sex</th>\n",
       "      <th>SibSp</th>\n",
       "      <th>Parch</th>\n",
       "      <th>Embarked</th>\n",
       "      <th>SimpleAge</th>\n",
       "      <th>SimpleFare</th>\n",
       "    </tr>\n",
       "  </thead>\n",
       "  <tbody>\n",
       "    <tr>\n",
       "      <th>0</th>\n",
       "      <td>892</td>\n",
       "      <td>3</td>\n",
       "      <td>1</td>\n",
       "      <td>0</td>\n",
       "      <td>0</td>\n",
       "      <td>1</td>\n",
       "      <td>adult</td>\n",
       "      <td>one</td>\n",
       "    </tr>\n",
       "    <tr>\n",
       "      <th>1</th>\n",
       "      <td>893</td>\n",
       "      <td>3</td>\n",
       "      <td>0</td>\n",
       "      <td>1</td>\n",
       "      <td>0</td>\n",
       "      <td>2</td>\n",
       "      <td>aged</td>\n",
       "      <td>one</td>\n",
       "    </tr>\n",
       "    <tr>\n",
       "      <th>2</th>\n",
       "      <td>894</td>\n",
       "      <td>2</td>\n",
       "      <td>1</td>\n",
       "      <td>0</td>\n",
       "      <td>0</td>\n",
       "      <td>1</td>\n",
       "      <td>aged</td>\n",
       "      <td>two</td>\n",
       "    </tr>\n",
       "    <tr>\n",
       "      <th>3</th>\n",
       "      <td>895</td>\n",
       "      <td>3</td>\n",
       "      <td>1</td>\n",
       "      <td>0</td>\n",
       "      <td>0</td>\n",
       "      <td>2</td>\n",
       "      <td>young</td>\n",
       "      <td>two</td>\n",
       "    </tr>\n",
       "    <tr>\n",
       "      <th>4</th>\n",
       "      <td>896</td>\n",
       "      <td>3</td>\n",
       "      <td>0</td>\n",
       "      <td>1</td>\n",
       "      <td>1</td>\n",
       "      <td>2</td>\n",
       "      <td>teen</td>\n",
       "      <td>two</td>\n",
       "    </tr>\n",
       "  </tbody>\n",
       "</table>\n",
       "</div>"
      ],
      "text/plain": [
       "   PassengerId  Pclass  Sex  SibSp  Parch  Embarked SimpleAge SimpleFare\n",
       "0          892       3    1      0      0         1     adult        one\n",
       "1          893       3    0      1      0         2      aged        one\n",
       "2          894       2    1      0      0         1      aged        two\n",
       "3          895       3    1      0      0         2     young        two\n",
       "4          896       3    0      1      1         2      teen        two"
      ]
     },
     "execution_count": 351,
     "metadata": {},
     "output_type": "execute_result"
    }
   ],
   "source": [
    "test.head()"
   ]
  },
  {
   "cell_type": "code",
   "execution_count": 352,
   "metadata": {
    "collapsed": true
   },
   "outputs": [],
   "source": [
    "# Перевод категорий в числа\n",
    "\n",
    "test.SimpleAge = test.SimpleAge.astype('category').cat.codes\n",
    "test.SimpleFare = test.SimpleFare.astype('category').cat.codes\n",
    "\n",
    "train.SimpleAge = train.SimpleAge.astype('category').cat.codes\n",
    "train.SimpleFare = train.SimpleFare.astype('category').cat.codes"
   ]
  },
  {
   "cell_type": "code",
   "execution_count": 353,
   "metadata": {},
   "outputs": [
    {
     "data": {
      "text/plain": [
       "PassengerId    int64\n",
       "Pclass         int64\n",
       "Sex            int64\n",
       "SibSp          int64\n",
       "Parch          int64\n",
       "Embarked       int64\n",
       "SimpleAge       int8\n",
       "SimpleFare      int8\n",
       "dtype: object"
      ]
     },
     "execution_count": 353,
     "metadata": {},
     "output_type": "execute_result"
    }
   ],
   "source": [
    "test.dtypes"
   ]
  },
  {
   "cell_type": "code",
   "execution_count": 354,
   "metadata": {
    "collapsed": true
   },
   "outputs": [],
   "source": [
    "#Убираем тип category с помощью get_dummies, т.е. one hot encode\n",
    "#cols_to_transform = [ 'SimpleAge', 'SimpleFare' ]\n",
    "#train = pd.get_dummies(train, columns = cols_to_transform )\n",
    "#test = pd.get_dummies(test, columns = cols_to_transform )"
   ]
  },
  {
   "cell_type": "code",
   "execution_count": 355,
   "metadata": {},
   "outputs": [
    {
     "data": {
      "text/html": [
       "<div>\n",
       "<style>\n",
       "    .dataframe thead tr:only-child th {\n",
       "        text-align: right;\n",
       "    }\n",
       "\n",
       "    .dataframe thead th {\n",
       "        text-align: left;\n",
       "    }\n",
       "\n",
       "    .dataframe tbody tr th {\n",
       "        vertical-align: top;\n",
       "    }\n",
       "</style>\n",
       "<table border=\"1\" class=\"dataframe\">\n",
       "  <thead>\n",
       "    <tr style=\"text-align: right;\">\n",
       "      <th></th>\n",
       "      <th>PassengerId</th>\n",
       "      <th>Survived</th>\n",
       "      <th>Pclass</th>\n",
       "      <th>Sex</th>\n",
       "      <th>SibSp</th>\n",
       "      <th>Parch</th>\n",
       "      <th>Embarked</th>\n",
       "      <th>SimpleAge</th>\n",
       "      <th>SimpleFare</th>\n",
       "    </tr>\n",
       "  </thead>\n",
       "  <tbody>\n",
       "    <tr>\n",
       "      <th>0</th>\n",
       "      <td>1</td>\n",
       "      <td>0</td>\n",
       "      <td>3</td>\n",
       "      <td>1</td>\n",
       "      <td>1</td>\n",
       "      <td>0</td>\n",
       "      <td>2</td>\n",
       "      <td>3</td>\n",
       "      <td>2</td>\n",
       "    </tr>\n",
       "    <tr>\n",
       "      <th>1</th>\n",
       "      <td>2</td>\n",
       "      <td>1</td>\n",
       "      <td>1</td>\n",
       "      <td>0</td>\n",
       "      <td>1</td>\n",
       "      <td>0</td>\n",
       "      <td>0</td>\n",
       "      <td>0</td>\n",
       "      <td>0</td>\n",
       "    </tr>\n",
       "    <tr>\n",
       "      <th>2</th>\n",
       "      <td>3</td>\n",
       "      <td>1</td>\n",
       "      <td>3</td>\n",
       "      <td>0</td>\n",
       "      <td>0</td>\n",
       "      <td>0</td>\n",
       "      <td>2</td>\n",
       "      <td>4</td>\n",
       "      <td>2</td>\n",
       "    </tr>\n",
       "    <tr>\n",
       "      <th>3</th>\n",
       "      <td>4</td>\n",
       "      <td>1</td>\n",
       "      <td>1</td>\n",
       "      <td>0</td>\n",
       "      <td>1</td>\n",
       "      <td>0</td>\n",
       "      <td>2</td>\n",
       "      <td>0</td>\n",
       "      <td>1</td>\n",
       "    </tr>\n",
       "    <tr>\n",
       "      <th>4</th>\n",
       "      <td>5</td>\n",
       "      <td>0</td>\n",
       "      <td>3</td>\n",
       "      <td>1</td>\n",
       "      <td>0</td>\n",
       "      <td>0</td>\n",
       "      <td>2</td>\n",
       "      <td>0</td>\n",
       "      <td>6</td>\n",
       "    </tr>\n",
       "  </tbody>\n",
       "</table>\n",
       "</div>"
      ],
      "text/plain": [
       "   PassengerId  Survived  Pclass  Sex  SibSp  Parch  Embarked  SimpleAge  \\\n",
       "0            1         0       3    1      1      0         2          3   \n",
       "1            2         1       1    0      1      0         0          0   \n",
       "2            3         1       3    0      0      0         2          4   \n",
       "3            4         1       1    0      1      0         2          0   \n",
       "4            5         0       3    1      0      0         2          0   \n",
       "\n",
       "   SimpleFare  \n",
       "0           2  \n",
       "1           0  \n",
       "2           2  \n",
       "3           1  \n",
       "4           6  "
      ]
     },
     "execution_count": 355,
     "metadata": {},
     "output_type": "execute_result"
    }
   ],
   "source": [
    "train.head()"
   ]
  },
  {
   "cell_type": "code",
   "execution_count": 356,
   "metadata": {
    "collapsed": true
   },
   "outputs": [],
   "source": [
    "#Подготовили данные так, что X_tr - таблица без id и Survived, а в y_tr сохранены Survived\n",
    "X_tr, y_tr = train.drop(['PassengerId', 'Survived'], axis=1), train['Survived']"
   ]
  },
  {
   "cell_type": "code",
   "execution_count": 376,
   "metadata": {
    "collapsed": true
   },
   "outputs": [],
   "source": [
    "#Сделаем скейлинг данных\n",
    "from sklearn.preprocessing import MinMaxScaler\n",
    "scaler = MinMaxScaler()\n",
    "\n",
    "scaler.fit(X_tr)\n",
    "#Преобразуем тренировочные данные\n",
    "X_tr_scaled = scaler.transform(X_tr)\n",
    "#Преобразуем тестовые данные\n",
    "X_te = test.drop(['PassengerId'], axis=1)\n",
    "X_te_scaled = scaler.transform(X_te)"
   ]
  },
  {
   "cell_type": "code",
   "execution_count": 382,
   "metadata": {},
   "outputs": [
    {
     "data": {
      "text/plain": [
       "Pipeline(steps=[('polynomialfeatures', PolynomialFeatures(degree=2, include_bias=True, interaction_only=False)), ('lgbmclassifier', LGBMClassifier(boosting_type='gbdt', colsample_bytree=1, learning_rate=0.1,\n",
       "        max_bin=255, max_depth=-1, min_child_samples=10,\n",
       "        min_child_weight=5, min_split_gain=0, n_estimators=10, nthread=-1,\n",
       "        num_leaves=31, objective='binary', reg_alpha=0, reg_lambda=0,\n",
       "        seed=0, silent=True, subsample=1, subsample_for_bin=50000,\n",
       "        subsample_freq=1))])"
      ]
     },
     "execution_count": 382,
     "metadata": {},
     "output_type": "execute_result"
    }
   ],
   "source": [
    "from sklearn.preprocessing import PolynomialFeatures #Препроцессинг \n",
    "from lightgbm import LGBMClassifier\n",
    "\n",
    "from sklearn.pipeline import make_pipeline\n",
    "\n",
    "from sklearn.svm import SVC \n",
    "#SVC(probability=True)\n",
    "\n",
    "pipe = make_pipeline(PolynomialFeatures(), LGBMClassifier())\n",
    "pipe"
   ]
  },
  {
   "cell_type": "code",
   "execution_count": 383,
   "metadata": {
    "collapsed": true
   },
   "outputs": [],
   "source": [
    "param_grid = {\n",
    "    #'polynomialfeatures__degree': [1, 2, 3],\n",
    "    #'lgbmclassifier__learning_rate': [0.1, 0.3, 0.5, 0.7, 0.9],\n",
    "    #'lgbmclassifier__max_bin': [200, 250, 300, 400, 500]\n",
    "    #'lgbmclassifier__n_estimators': [110, 120, 130, 140, 150, 160],\n",
    "    #'lgbmclassifier__num_leaves': [110, 120, 130, 140]\n",
    "    'polynomialfeatures__degree': [2],\n",
    "    #'svc__C': [1, 10, 100, 200, 400]  #10\n",
    "    'lgbmclassifier__learning_rate': [0.4],\n",
    "    'lgbmclassifier__max_bin': [150],\n",
    "    'lgbmclassifier__n_estimators': [10],\n",
    "    'lgbmclassifier__num_leaves': [45]\n",
    "}"
   ]
  },
  {
   "cell_type": "code",
   "execution_count": 384,
   "metadata": {},
   "outputs": [
    {
     "name": "stdout",
     "output_type": "stream",
     "text": [
      "Наилучшие параметры: {'lgbmclassifier__learning_rate': 0.4, 'lgbmclassifier__max_bin': 150, 'lgbmclassifier__n_estimators': 10, 'lgbmclassifier__num_leaves': 45, 'polynomialfeatures__degree': 2}\n"
     ]
    }
   ],
   "source": [
    "from sklearn.model_selection import GridSearchCV\n",
    "\n",
    "clf = GridSearchCV(pipe, param_grid=param_grid, cv=5, n_jobs=-1)\n",
    "\n",
    "clf.fit(X_tr_scaled, y_tr)\n",
    "y_te = clf.predict(X_te_scaled)\n",
    "print(\"Наилучшие параметры: {}\".format(clf.best_params_))"
   ]
  },
  {
   "cell_type": "code",
   "execution_count": 385,
   "metadata": {},
   "outputs": [
    {
     "name": "stdout",
     "output_type": "stream",
     "text": [
      "Среднее значение кросс-валидации: 0.8181595631159375\n"
     ]
    }
   ],
   "source": [
    "from sklearn.model_selection import cross_val_score\n",
    "from sklearn.model_selection import KFold\n",
    "\n",
    "kf = KFold(n_splits=5, shuffle=True, random_state=1234)\n",
    "\n",
    "scores = cross_val_score(clf, X_tr_scaled, y_tr, cv=kf, n_jobs=-1)\n",
    "print(\"Среднее значение кросс-валидации: {}\".format(np.mean(scores)))"
   ]
  },
  {
   "cell_type": "code",
   "execution_count": 386,
   "metadata": {
    "collapsed": true
   },
   "outputs": [],
   "source": [
    "#for catboost\n",
    "y_te = y_te.astype(np.int64)\n",
    "\n",
    "ans = pd.DataFrame({'PassengerId': test['PassengerId'], 'Survived': y_te})\n",
    "ans.to_csv('ans_titanic.csv', index=False)"
   ]
  }
 ],
 "metadata": {
  "kernelspec": {
   "display_name": "Python 3",
   "language": "python",
   "name": "python3"
  },
  "language_info": {
   "codemirror_mode": {
    "name": "ipython",
    "version": 3
   },
   "file_extension": ".py",
   "mimetype": "text/x-python",
   "name": "python",
   "nbconvert_exporter": "python",
   "pygments_lexer": "ipython3",
   "version": "3.6.1"
  }
 },
 "nbformat": 4,
 "nbformat_minor": 2
}
