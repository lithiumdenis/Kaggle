{
 "cells": [
  {
   "cell_type": "markdown",
   "metadata": {},
   "source": [
    "### Масштабирование данных"
   ]
  },
  {
   "cell_type": "code",
   "execution_count": 54,
   "metadata": {
    "collapsed": true
   },
   "outputs": [],
   "source": [
    "from sklearn.datasets import load_digits\n",
    "from sklearn.model_selection import train_test_split\n",
    "digits = load_digits()"
   ]
  },
  {
   "cell_type": "code",
   "execution_count": 55,
   "metadata": {
    "collapsed": true
   },
   "outputs": [],
   "source": [
    "#Разобъем выборку на тестовые и тренировочные данные\n",
    "X_train, X_test, y_train, y_test = train_test_split(digits.data, digits.target, random_state=1234)"
   ]
  },
  {
   "cell_type": "code",
   "execution_count": 56,
   "metadata": {
    "scrolled": false
   },
   "outputs": [
    {
     "name": "stdout",
     "output_type": "stream",
     "text": [
      "(1347, 64)\n",
      "(450, 64)\n"
     ]
    }
   ],
   "source": [
    "print(X_train.shape)\n",
    "print(X_test.shape)"
   ]
  },
  {
   "cell_type": "markdown",
   "metadata": {},
   "source": [
    "#### MinMaxScaler"
   ]
  },
  {
   "cell_type": "code",
   "execution_count": 57,
   "metadata": {},
   "outputs": [
    {
     "data": {
      "text/plain": [
       "MinMaxScaler(copy=True, feature_range=(0, 1))"
      ]
     },
     "execution_count": 57,
     "metadata": {},
     "output_type": "execute_result"
    }
   ],
   "source": [
    "from sklearn.preprocessing import MinMaxScaler\n",
    "scaler = MinMaxScaler()\n",
    "scaler.fit(X_train)"
   ]
  },
  {
   "cell_type": "code",
   "execution_count": 58,
   "metadata": {},
   "outputs": [
    {
     "name": "stdout",
     "output_type": "stream",
     "text": [
      "Форма преобразованного массива: (1347, 64)\n",
      "min значение признака до масштабирования:\n",
      " [ 0.  0.  0.  0.  0.  0.  0.  0.  0.  0.  0.  0.  0.  0.  0.  0.  0.  0.\n",
      "  0.  0.  0.  0.  0.  0.  0.  0.  0.  0.  0.  0.  0.  0.  0.  0.  0.  0.\n",
      "  0.  0.  0.  0.  0.  0.  0.  0.  0.  0.  0.  0.  0.  0.  0.  0.  0.  0.\n",
      "  0.  0.  0.  0.  0.  0.  0.  0.  0.  0.]\n",
      "max значение признака до масштабирования:\n",
      " [  0.   8.  16.  16.  16.  16.  16.  15.   2.  15.  16.  16.  16.  16.  16.\n",
      "  12.   2.  16.  16.  16.  16.  16.  16.   8.   1.  15.  16.  16.  16.  16.\n",
      "  15.   1.   0.  14.  16.  16.  16.  16.  14.   0.   4.  16.  16.  16.  16.\n",
      "  16.  16.   5.   3.  16.  16.  16.  16.  16.  16.  13.   1.   9.  16.  16.\n",
      "  16.  16.  16.  16.]\n",
      "min значение признака после масштабирования:\n",
      " [ 0.  0.  0.  0.  0.  0.  0.  0.  0.  0.  0.  0.  0.  0.  0.  0.  0.  0.\n",
      "  0.  0.  0.  0.  0.  0.  0.  0.  0.  0.  0.  0.  0.  0.  0.  0.  0.  0.\n",
      "  0.  0.  0.  0.  0.  0.  0.  0.  0.  0.  0.  0.  0.  0.  0.  0.  0.  0.\n",
      "  0.  0.  0.  0.  0.  0.  0.  0.  0.  0.]\n",
      "max значение признака после масштабирования:\n",
      " [ 0.  1.  1.  1.  1.  1.  1.  1.  1.  1.  1.  1.  1.  1.  1.  1.  1.  1.\n",
      "  1.  1.  1.  1.  1.  1.  1.  1.  1.  1.  1.  1.  1.  1.  0.  1.  1.  1.\n",
      "  1.  1.  1.  0.  1.  1.  1.  1.  1.  1.  1.  1.  1.  1.  1.  1.  1.  1.\n",
      "  1.  1.  1.  1.  1.  1.  1.  1.  1.  1.]\n"
     ]
    }
   ],
   "source": [
    "#Преобразуем тренировочные данные\n",
    "X_train_scaled = scaler.transform(X_train)\n",
    "#Выведем результаты\n",
    "print(\"Форма преобразованного массива: {}\".format(X_train_scaled.shape))\n",
    "print(\"min значение признака до масштабирования:\\n {}\".format(X_train.min(axis=0)))\n",
    "print(\"max значение признака до масштабирования:\\n {}\".format(X_train.max(axis=0)))\n",
    "print(\"min значение признака после масштабирования:\\n {}\".format(X_train_scaled.min(axis=0)))\n",
    "print(\"max значение признака после масштабирования:\\n {}\".format(X_train_scaled.max(axis=0)))\n"
   ]
  },
  {
   "cell_type": "code",
   "execution_count": 59,
   "metadata": {},
   "outputs": [
    {
     "name": "stdout",
     "output_type": "stream",
     "text": [
      "min значение признака после масштабирования:\n",
      " [ 0.  0.  0.  0.  0.  0.  0.  0.  0.  0.  0.  0.  0.  0.  0.  0.  0.  0.\n",
      "  0.  0.  0.  0.  0.  0.  0.  0.  0.  0.  0.  0.  0.  0.  0.  0.  0.  0.\n",
      "  0.  0.  0.  0.  0.  0.  0.  0.  0.  0.  0.  0.  0.  0.  0.  0.  0.  0.\n",
      "  0.  0.  0.  0.  0.  0.  0.  0.  0.  0.]\n",
      "max значение признака после масштабирования:\n",
      " [ 0.          1.          1.          1.          1.          1.          1.\n",
      "  0.66666667  1.          1.06666667  1.          1.          1.          1.\n",
      "  1.          0.66666667  0.5         1.          1.          1.          1.\n",
      "  1.          1.          0.625       1.          1.          1.          1.\n",
      "  1.          1.          1.          1.          0.          1.          1.\n",
      "  1.          1.          1.          1.          0.          0.75        1.\n",
      "  1.          1.          1.          1.          1.          1.2\n",
      "  2.66666667  1.          1.          1.          1.          1.          1.\n",
      "  0.76923077  0.          1.          1.          1.          1.          1.\n",
      "  1.          1.        ]\n"
     ]
    }
   ],
   "source": [
    "#Преобразуем тестовые данные\n",
    "X_test_scaled = scaler.transform(X_test)\n",
    "#Выведем результаты\n",
    "print(\"min значение признака после масштабирования:\\n {}\".format(X_test_scaled.min(axis=0)))\n",
    "print(\"max значение признака после масштабирования:\\n {}\".format(X_test_scaled.max(axis=0)))"
   ]
  },
  {
   "cell_type": "markdown",
   "metadata": {},
   "source": [
    "#### StandardScaler"
   ]
  },
  {
   "cell_type": "code",
   "execution_count": 60,
   "metadata": {},
   "outputs": [
    {
     "data": {
      "text/plain": [
       "StandardScaler(copy=True, with_mean=True, with_std=True)"
      ]
     },
     "execution_count": 60,
     "metadata": {},
     "output_type": "execute_result"
    }
   ],
   "source": [
    "from sklearn.preprocessing import StandardScaler\n",
    "scaler = StandardScaler()\n",
    "scaler.fit(X_train)"
   ]
  },
  {
   "cell_type": "code",
   "execution_count": 61,
   "metadata": {},
   "outputs": [
    {
     "name": "stdout",
     "output_type": "stream",
     "text": [
      "Форма преобразованного массива: (1347, 64)\n",
      "min значение признака до масштабирования:\n",
      " [ 0.  0.  0.  0.  0.  0.  0.  0.  0.  0.  0.  0.  0.  0.  0.  0.  0.  0.\n",
      "  0.  0.  0.  0.  0.  0.  0.  0.  0.  0.  0.  0.  0.  0.  0.  0.  0.  0.\n",
      "  0.  0.  0.  0.  0.  0.  0.  0.  0.  0.  0.  0.  0.  0.  0.  0.  0.  0.\n",
      "  0.  0.  0.  0.  0.  0.  0.  0.  0.  0.]\n",
      "max значение признака до масштабирования:\n",
      " [  0.   8.  16.  16.  16.  16.  16.  15.   2.  15.  16.  16.  16.  16.  16.\n",
      "  12.   2.  16.  16.  16.  16.  16.  16.   8.   1.  15.  16.  16.  16.  16.\n",
      "  15.   1.   0.  14.  16.  16.  16.  16.  14.   0.   4.  16.  16.  16.  16.\n",
      "  16.  16.   5.   3.  16.  16.  16.  16.  16.  16.  13.   1.   9.  16.  16.\n",
      "  16.  16.  16.  16.]\n",
      "min значение признака после масштабирования:\n",
      " [ 0.         -0.32885254 -1.09115109 -2.77506831 -2.82052401 -1.03898892\n",
      " -0.41644075 -0.12671139 -0.05156009 -0.61773079 -1.93122049 -2.99724346\n",
      " -2.18120253 -1.37203961 -0.51979274 -0.13574965 -0.03657993 -0.73869106\n",
      " -1.77574324 -1.19318976 -1.13993953 -1.27640339 -0.56033867 -0.11535128\n",
      " -0.02725696 -0.79479126 -1.48312452 -1.48788684 -1.58343855 -1.28660317\n",
      " -0.64038873 -0.04724556  0.         -0.67951179 -1.21065948 -1.44647343\n",
      " -1.72615174 -1.48900801 -0.81733734  0.         -0.06005104 -0.52411879\n",
      " -1.04373254 -1.11019731 -1.23814943 -1.46072328 -0.79690673 -0.09092982\n",
      " -0.04111086 -0.39852164 -1.31714113 -1.80174066 -1.7679449  -1.45071317\n",
      " -0.76457505 -0.21061168 -0.02725696 -0.29861593 -1.08472083 -2.76816267\n",
      " -2.36131515 -1.14112428 -0.50708811 -0.19270939]\n",
      "max значение признака после масштабирования:\n",
      " [  0.           8.7343571    2.31013446   0.99380637   0.97066555\n",
      "   1.76284906   4.35756516  13.34804454  27.72901815   4.10643674\n",
      "   1.03942143   1.00081256   1.19517303   1.27169733   3.95050781\n",
      "  13.16277969  32.81219367   3.74589198   1.06228555   1.54367972\n",
      "   1.45025306   1.31927936   4.32099481  17.39204831  36.68787266\n",
      "   3.96335906   1.10633592   1.22367558   1.00168891   1.44449813\n",
      "   3.40054015  21.16601049   0.           3.38849878   1.31129424\n",
      "   1.10066239   0.95565494   1.24307956   3.15824881   0.          29.35404032\n",
      "   4.99410699   1.4050508    1.37468922   1.3346038    1.35666603\n",
      "   2.90858062  19.66430598  33.18468568   9.53088679   1.52411856\n",
      "   1.22838924   1.23368961   1.20207575   2.45884464  12.86747765\n",
      "  36.68787266   9.53866905   2.08860662   0.89912537   0.86045391\n",
      "   1.56592145   3.42695182   8.28335758]\n"
     ]
    }
   ],
   "source": [
    "#Преобразуем тренировочные данные\n",
    "X_train_scaled = scaler.transform(X_train)\n",
    "#Выведем результаты\n",
    "print(\"Форма преобразованного массива: {}\".format(X_train_scaled.shape))\n",
    "print(\"min значение признака до масштабирования:\\n {}\".format(X_train.min(axis=0)))\n",
    "print(\"max значение признака до масштабирования:\\n {}\".format(X_train.max(axis=0)))\n",
    "print(\"min значение признака после масштабирования:\\n {}\".format(X_train_scaled.min(axis=0)))\n",
    "print(\"max значение признака после масштабирования:\\n {}\".format(X_train_scaled.max(axis=0)))"
   ]
  },
  {
   "cell_type": "markdown",
   "metadata": {},
   "source": [
    "#### RobustScaler"
   ]
  },
  {
   "cell_type": "code",
   "execution_count": 62,
   "metadata": {},
   "outputs": [
    {
     "data": {
      "text/plain": [
       "RobustScaler(copy=True, quantile_range=(25.0, 75.0), with_centering=True,\n",
       "       with_scaling=True)"
      ]
     },
     "execution_count": 62,
     "metadata": {},
     "output_type": "execute_result"
    }
   ],
   "source": [
    "from sklearn.preprocessing import RobustScaler\n",
    "scaler = RobustScaler()\n",
    "scaler.fit(X_train)"
   ]
  },
  {
   "cell_type": "code",
   "execution_count": 63,
   "metadata": {},
   "outputs": [
    {
     "name": "stdout",
     "output_type": "stream",
     "text": [
      "Форма преобразованного массива: (1347, 64)\n",
      "min значение признака до масштабирования:\n",
      " [ 0.  0.  0.  0.  0.  0.  0.  0.  0.  0.  0.  0.  0.  0.  0.  0.  0.  0.\n",
      "  0.  0.  0.  0.  0.  0.  0.  0.  0.  0.  0.  0.  0.  0.  0.  0.  0.  0.\n",
      "  0.  0.  0.  0.  0.  0.  0.  0.  0.  0.  0.  0.  0.  0.  0.  0.  0.  0.\n",
      "  0.  0.  0.  0.  0.  0.  0.  0.  0.  0.]\n",
      "max значение признака до масштабирования:\n",
      " [  0.   8.  16.  16.  16.  16.  16.  15.   2.  15.  16.  16.  16.  16.  16.\n",
      "  12.   2.  16.  16.  16.  16.  16.  16.   8.   1.  15.  16.  16.  16.  16.\n",
      "  15.   1.   0.  14.  16.  16.  16.  16.  14.   0.   4.  16.  16.  16.  16.\n",
      "  16.  16.   5.   3.  16.  16.  16.  16.  16.  16.  13.   1.   9.  16.  16.\n",
      "  16.  16.  16.  16.]\n",
      "min значение признака после масштабирования:\n",
      " [ 0.          0.         -0.5        -2.6        -2.6        -0.36363636\n",
      "  0.          0.          0.          0.         -1.33333333 -1.85714286\n",
      " -1.375      -0.75        0.          0.          0.         -0.25\n",
      " -1.26315789 -0.54545455 -0.46153846 -0.64285714  0.          0.          0.\n",
      " -0.2        -0.91666667 -0.83333333 -1.         -0.58333333  0.          0.\n",
      "  0.          0.         -0.57142857 -0.84615385 -1.3        -0.90909091\n",
      " -0.16666667  0.          0.          0.         -0.35714286 -0.5\n",
      " -0.61538462 -0.9        -0.14285714  0.          0.          0.         -0.8\n",
      " -1.11111111 -1.         -0.8        -0.14285714  0.          0.          0.\n",
      " -0.5        -2.6        -2.         -0.5         0.          0.        ]\n",
      "max значение признака после масштабирования:\n",
      " [  0.           8.           1.5          0.6          0.6          1.09090909\n",
      "  16.          15.           2.           5.           0.44444444\n",
      "   0.42857143   0.625        0.58333333   8.          12.           2.\n",
      "   3.75         0.42105263   0.90909091   0.76923077   0.5          5.33333333\n",
      "   8.           1.           2.8          0.41666667   0.5          0.33333333\n",
      "   0.75         3.75         1.           0.           3.5          0.57142857\n",
      "   0.38461538   0.3          0.54545455   2.16666667   0.           4.           8.\n",
      "   0.78571429   0.64285714   0.61538462   0.7          2.14285714   5.           3.\n",
      "  16.           0.8          0.66666667   0.6          0.48         2.14285714\n",
      "  13.           1.           9.           1.5          0.6          0.28571429\n",
      "   0.83333333   8.          16.        ]\n"
     ]
    }
   ],
   "source": [
    "#Преобразуем тренировочные данные\n",
    "X_train_scaled = scaler.transform(X_train)\n",
    "#Выведем результаты\n",
    "print(\"Форма преобразованного массива: {}\".format(X_train_scaled.shape))\n",
    "print(\"min значение признака до масштабирования:\\n {}\".format(X_train.min(axis=0)))\n",
    "print(\"max значение признака до масштабирования:\\n {}\".format(X_train.max(axis=0)))\n",
    "print(\"min значение признака после масштабирования:\\n {}\".format(X_train_scaled.min(axis=0)))\n",
    "print(\"max значение признака после масштабирования:\\n {}\".format(X_train_scaled.max(axis=0)))"
   ]
  },
  {
   "cell_type": "markdown",
   "metadata": {},
   "source": [
    "#### Normalizer"
   ]
  },
  {
   "cell_type": "code",
   "execution_count": 64,
   "metadata": {},
   "outputs": [
    {
     "data": {
      "text/plain": [
       "Normalizer(copy=True, norm='l2')"
      ]
     },
     "execution_count": 64,
     "metadata": {},
     "output_type": "execute_result"
    }
   ],
   "source": [
    "from sklearn.preprocessing import Normalizer\n",
    "scaler = Normalizer()\n",
    "scaler.fit(X_train)"
   ]
  },
  {
   "cell_type": "code",
   "execution_count": 65,
   "metadata": {},
   "outputs": [
    {
     "name": "stdout",
     "output_type": "stream",
     "text": [
      "Форма преобразованного массива: (1347, 64)\n",
      "min значение признака до масштабирования:\n",
      " [ 0.  0.  0.  0.  0.  0.  0.  0.  0.  0.  0.  0.  0.  0.  0.  0.  0.  0.\n",
      "  0.  0.  0.  0.  0.  0.  0.  0.  0.  0.  0.  0.  0.  0.  0.  0.  0.  0.\n",
      "  0.  0.  0.  0.  0.  0.  0.  0.  0.  0.  0.  0.  0.  0.  0.  0.  0.  0.\n",
      "  0.  0.  0.  0.  0.  0.  0.  0.  0.  0.]\n",
      "max значение признака до масштабирования:\n",
      " [  0.   8.  16.  16.  16.  16.  16.  15.   2.  15.  16.  16.  16.  16.  16.\n",
      "  12.   2.  16.  16.  16.  16.  16.  16.   8.   1.  15.  16.  16.  16.  16.\n",
      "  15.   1.   0.  14.  16.  16.  16.  16.  14.   0.   4.  16.  16.  16.  16.\n",
      "  16.  16.   5.   3.  16.  16.  16.  16.  16.  16.  13.   1.   9.  16.  16.\n",
      "  16.  16.  16.  16.]\n",
      "min значение признака после масштабирования:\n",
      " [ 0.  0.  0.  0.  0.  0.  0.  0.  0.  0.  0.  0.  0.  0.  0.  0.  0.  0.\n",
      "  0.  0.  0.  0.  0.  0.  0.  0.  0.  0.  0.  0.  0.  0.  0.  0.  0.  0.\n",
      "  0.  0.  0.  0.  0.  0.  0.  0.  0.  0.  0.  0.  0.  0.  0.  0.  0.  0.\n",
      "  0.  0.  0.  0.  0.  0.  0.  0.  0.  0.]\n",
      "max значение признака после масштабирования:\n",
      " [ 0.          0.12519884  0.29197275  0.31834887  0.31834887  0.30527459\n",
      "  0.29086102  0.23632458  0.030722    0.25526374  0.31324413  0.30076463\n",
      "  0.29339283  0.31199103  0.30076463  0.19881615  0.03388857  0.27110857\n",
      "  0.3100519   0.2895246   0.29066897  0.31199103  0.28746123  0.12489333\n",
      "  0.01694429  0.23239759  0.30527459  0.30018181  0.30264192  0.30695532\n",
      "  0.25854384  0.01565561  0.          0.23838638  0.29939248  0.31493866\n",
      "  0.31834887  0.29143946  0.21212121  0.          0.0617434   0.26407531\n",
      "  0.29721505  0.30183307  0.29378824  0.28774     0.26975659  0.07535215\n",
      "  0.04814969  0.25679834  0.30264192  0.30323922  0.29536946  0.29918304\n",
      "  0.30258779  0.20052275  0.0160499   0.14084869  0.29197275  0.31116394\n",
      "  0.31312414  0.30826285  0.30258779  0.26929769]\n"
     ]
    }
   ],
   "source": [
    "#Преобразуем тренировочные данные\n",
    "X_train_scaled = scaler.transform(X_train)\n",
    "#Выведем результаты\n",
    "print(\"Форма преобразованного массива: {}\".format(X_train_scaled.shape))\n",
    "print(\"min значение признака до масштабирования:\\n {}\".format(X_train.min(axis=0)))\n",
    "print(\"max значение признака до масштабирования:\\n {}\".format(X_train.max(axis=0)))\n",
    "print(\"min значение признака после масштабирования:\\n {}\".format(X_train_scaled.min(axis=0)))\n",
    "print(\"max значение признака после масштабирования:\\n {}\".format(X_train_scaled.max(axis=0)))"
   ]
  },
  {
   "cell_type": "markdown",
   "metadata": {},
   "source": [
    "### Наглядное применение без масштабирования"
   ]
  },
  {
   "cell_type": "code",
   "execution_count": 66,
   "metadata": {
    "collapsed": true
   },
   "outputs": [],
   "source": [
    "from sklearn.svm import SVC"
   ]
  },
  {
   "cell_type": "code",
   "execution_count": 67,
   "metadata": {},
   "outputs": [
    {
     "data": {
      "text/plain": [
       "SVC(C=100, cache_size=200, class_weight=None, coef0=0.0,\n",
       "  decision_function_shape=None, degree=3, gamma='auto', kernel='rbf',\n",
       "  max_iter=-1, probability=False, random_state=None, shrinking=True,\n",
       "  tol=0.001, verbose=False)"
      ]
     },
     "execution_count": 67,
     "metadata": {},
     "output_type": "execute_result"
    }
   ],
   "source": [
    "svm = SVC(C=100)\n",
    "svm.fit(X_train, y_train)"
   ]
  },
  {
   "cell_type": "code",
   "execution_count": 68,
   "metadata": {},
   "outputs": [
    {
     "name": "stdout",
     "output_type": "stream",
     "text": [
      "Правильность без масштабирования: 0.52\n"
     ]
    }
   ],
   "source": [
    "print(\"Правильность без масштабирования: {:.2f}\".format(svm.score(X_test, y_test)))"
   ]
  },
  {
   "cell_type": "markdown",
   "metadata": {},
   "source": [
    "### Наглядное применение с масштабированием"
   ]
  },
  {
   "cell_type": "code",
   "execution_count": 69,
   "metadata": {},
   "outputs": [
    {
     "data": {
      "text/plain": [
       "Normalizer(copy=True, norm='l2')"
      ]
     },
     "execution_count": 69,
     "metadata": {},
     "output_type": "execute_result"
    }
   ],
   "source": [
    "from sklearn.preprocessing import Normalizer\n",
    "scaler = Normalizer()\n",
    "scaler.fit(X_train)"
   ]
  },
  {
   "cell_type": "code",
   "execution_count": 70,
   "metadata": {
    "collapsed": true
   },
   "outputs": [],
   "source": [
    "X_train_scaled = scaler.transform(X_train)\n",
    "X_test_scaled = scaler.transform(X_test)"
   ]
  },
  {
   "cell_type": "code",
   "execution_count": 71,
   "metadata": {},
   "outputs": [
    {
     "data": {
      "text/plain": [
       "SVC(C=100, cache_size=200, class_weight=None, coef0=0.0,\n",
       "  decision_function_shape=None, degree=3, gamma='auto', kernel='rbf',\n",
       "  max_iter=-1, probability=False, random_state=None, shrinking=True,\n",
       "  tol=0.001, verbose=False)"
      ]
     },
     "execution_count": 71,
     "metadata": {},
     "output_type": "execute_result"
    }
   ],
   "source": [
    "svm.fit(X_train_scaled, y_train)"
   ]
  },
  {
   "cell_type": "code",
   "execution_count": 72,
   "metadata": {},
   "outputs": [
    {
     "name": "stdout",
     "output_type": "stream",
     "text": [
      "Правильность после масштабирования: 0.99\n"
     ]
    }
   ],
   "source": [
    "print(\"Правильность после масштабирования: {:.2f}\".format(svm.score(X_test_scaled, y_test)))"
   ]
  }
 ],
 "metadata": {
  "kernelspec": {
   "display_name": "Python 3",
   "language": "python",
   "name": "python3"
  },
  "language_info": {
   "codemirror_mode": {
    "name": "ipython",
    "version": 3
   },
   "file_extension": ".py",
   "mimetype": "text/x-python",
   "name": "python",
   "nbconvert_exporter": "python",
   "pygments_lexer": "ipython3",
   "version": "3.6.1"
  }
 },
 "nbformat": 4,
 "nbformat_minor": 2
}
